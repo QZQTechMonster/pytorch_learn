{
 "cells": [
  {
   "cell_type": "code",
   "execution_count": 1,
   "metadata": {
    "collapsed": true
   },
   "outputs": [],
   "source": [
    "import torch\n",
    "from torch.autograd import Variable\n",
    "import torch.utils.data as Data\n",
    "import torchvision\n",
    "import matplotlib.pyplot as plt\n",
    "import torch.nn as nn\n",
    "%matplotlib inline"
   ]
  },
  {
   "cell_type": "code",
   "execution_count": 2,
   "metadata": {
    "collapsed": true
   },
   "outputs": [],
   "source": [
    "BATCH_SIZE = 64\n",
    "LR = 0.01\n",
    "EPOCH = 1"
   ]
  },
  {
   "cell_type": "markdown",
   "metadata": {},
   "source": [
    "# train data"
   ]
  },
  {
   "cell_type": "code",
   "execution_count": 3,
   "metadata": {
    "collapsed": false
   },
   "outputs": [
    {
     "name": "stdout",
     "output_type": "stream",
     "text": [
      "torch.Size([60000, 28, 28])\n"
     ]
    }
   ],
   "source": [
    "train_data = torchvision.datasets.MNIST(\n",
    "    root='../mnist',\n",
    "    train=True,                                   # training data\n",
    "    transform=torchvision.transforms.ToTensor(),  # transform to torch.FloatTensor and normalize \n",
    "    download=False                                # if you don't have dataset,it should be true\n",
    ")\n",
    "print train_data.train_data.size()"
   ]
  },
  {
   "cell_type": "code",
   "execution_count": 4,
   "metadata": {
    "collapsed": false
   },
   "outputs": [],
   "source": [
    "train_loader = torch.utils.data.DataLoader(dataset=train_data, batch_size=BATCH_SIZE, shuffle=True)"
   ]
  },
  {
   "cell_type": "markdown",
   "metadata": {},
   "source": [
    "# test data"
   ]
  },
  {
   "cell_type": "code",
   "execution_count": 5,
   "metadata": {
    "collapsed": false
   },
   "outputs": [],
   "source": [
    "test_data = torchvision.datasets.MNIST(\n",
    "    root='../mnist', \n",
    "    train=False, \n",
    "    transform=torchvision.transforms.ToTensor()\n",
    ")"
   ]
  },
  {
   "cell_type": "code",
   "execution_count": 6,
   "metadata": {
    "collapsed": false
   },
   "outputs": [],
   "source": [
    "test_x = Variable(\n",
    "    test_data.test_data,\n",
    "    volatile=True\n",
    ")[:2000].type(torch.FloatTensor)/255\n",
    "test_y = test_data.test_labels[:2000].type(torch.LongTensor)"
   ]
  },
  {
   "cell_type": "code",
   "execution_count": 7,
   "metadata": {
    "collapsed": false
   },
   "outputs": [],
   "source": [
    "from LSTM import LSTM\n",
    "lstm = LSTM()"
   ]
  },
  {
   "cell_type": "code",
   "execution_count": 8,
   "metadata": {
    "collapsed": false
   },
   "outputs": [
    {
     "name": "stdout",
     "output_type": "stream",
     "text": [
      "LSTM (\n",
      "  (lstm): LSTM(28, 64, batch_first=True)\n",
      "  (out): Linear (64 -> 10)\n",
      ")\n"
     ]
    }
   ],
   "source": [
    "print lstm"
   ]
  },
  {
   "cell_type": "markdown",
   "metadata": {},
   "source": [
    "# train"
   ]
  },
  {
   "cell_type": "code",
   "execution_count": 9,
   "metadata": {
    "collapsed": false
   },
   "outputs": [],
   "source": [
    "optimizer = torch.optim.Adam(lstm.parameters(), lr=LR)\n",
    "loss_func = nn.CrossEntropyLoss()"
   ]
  },
  {
   "cell_type": "code",
   "execution_count": 10,
   "metadata": {
    "collapsed": false,
    "scrolled": true
   },
   "outputs": [
    {
     "name": "stdout",
     "output_type": "stream",
     "text": [
      "('step:', 0, '| train loss: 2.2968', '| test_acc: 0.09')\n",
      "('step:', 50, '| train loss: 1.0808', '| test_acc: 0.54')\n",
      "('step:', 100, '| train loss: 0.7788', '| test_acc: 0.71')\n",
      "('step:', 150, '| train loss: 0.5554', '| test_acc: 0.82')\n",
      "('step:', 200, '| train loss: 0.4601', '| test_acc: 0.87')\n",
      "('step:', 250, '| train loss: 0.5658', '| test_acc: 0.90')\n",
      "('step:', 300, '| train loss: 0.3271', '| test_acc: 0.89')\n",
      "('step:', 350, '| train loss: 0.1159', '| test_acc: 0.92')\n",
      "('step:', 400, '| train loss: 0.2720', '| test_acc: 0.93')\n",
      "('step:', 450, '| train loss: 0.1552', '| test_acc: 0.94')\n",
      "('step:', 500, '| train loss: 0.1222', '| test_acc: 0.94')\n",
      "('step:', 550, '| train loss: 0.1974', '| test_acc: 0.94')\n",
      "('step:', 600, '| train loss: 0.2744', '| test_acc: 0.94')\n",
      "('step:', 650, '| train loss: 0.1495', '| test_acc: 0.95')\n",
      "('step:', 700, '| train loss: 0.1868', '| test_acc: 0.94')\n",
      "('step:', 750, '| train loss: 0.1186', '| test_acc: 0.95')\n",
      "('step:', 800, '| train loss: 0.1248', '| test_acc: 0.95')\n",
      "('step:', 850, '| train loss: 0.1305', '| test_acc: 0.95')\n",
      "('step:', 900, '| train loss: 0.1557', '| test_acc: 0.95')\n"
     ]
    }
   ],
   "source": [
    "for epoch in xrange(EPOCH):\n",
    "    for step, (x,y) in enumerate(train_loader):\n",
    "        b_x = Variable(x.view(-1, 28, 28))\n",
    "        b_y = Variable(y)\n",
    "        \n",
    "        output = lstm(b_x)\n",
    "        loss = loss_func(output, b_y)\n",
    "        optimizer.zero_grad()\n",
    "        loss.backward()\n",
    "        optimizer.step()\n",
    "        \n",
    "        if step%50 == 0:\n",
    "            test_output = lstm(test_x)\n",
    "            pred_y = torch.max(test_output, 1)[1].data.squeeze()\n",
    "            # print('pred', pred_y.size(), 'truth', test_y.size())\n",
    "            accuracy = sum(pred_y == test_y) / float(test_y.size(0))\n",
    "            print(\n",
    "                'step:',step,\n",
    "                '| train loss: %.4f' % loss.data[0],\n",
    "                '| test_acc: %.2f' % accuracy)\n",
    "        "
   ]
  },
  {
   "cell_type": "markdown",
   "metadata": {},
   "source": [
    "# test"
   ]
  },
  {
   "cell_type": "code",
   "execution_count": null,
   "metadata": {
    "collapsed": true
   },
   "outputs": [],
   "source": []
  }
 ],
 "metadata": {
  "kernelspec": {
   "display_name": "Python 2",
   "language": "python",
   "name": "python2"
  },
  "language_info": {
   "codemirror_mode": {
    "name": "ipython",
    "version": 2
   },
   "file_extension": ".py",
   "mimetype": "text/x-python",
   "name": "python",
   "nbconvert_exporter": "python",
   "pygments_lexer": "ipython2",
   "version": "2.7.13"
  }
 },
 "nbformat": 4,
 "nbformat_minor": 0
}
