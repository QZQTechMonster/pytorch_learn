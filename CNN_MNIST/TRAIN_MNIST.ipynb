{
 "cells": [
  {
   "cell_type": "code",
   "execution_count": 1,
   "metadata": {
    "collapsed": true
   },
   "outputs": [],
   "source": [
    "import torch\n",
    "from torch.autograd import Variable\n",
    "import torch.utils.data as Data\n",
    "import torchvision\n",
    "import matplotlib.pyplot as plt\n",
    "import torch.nn as nn\n",
    "%matplotlib inline"
   ]
  },
  {
   "cell_type": "markdown",
   "metadata": {},
   "source": [
    "# Mnist Dataset"
   ]
  },
  {
   "cell_type": "code",
   "execution_count": 3,
   "metadata": {
    "collapsed": false
   },
   "outputs": [
    {
     "data": {
      "text/plain": [
       "torchvision.datasets.mnist.MNIST"
      ]
     },
     "execution_count": 3,
     "metadata": {},
     "output_type": "execute_result"
    }
   ],
   "source": [
    "train_data = torchvision.datasets.MNIST(\n",
    "    root='../mnist',\n",
    "    train=True,                                   # training data\n",
    "    transform=torchvision.transforms.ToTensor(),  # transform to torch.FloatTensor and normalize \n",
    "    download=False                                # if you don't have dataset,it should be true\n",
    ")\n",
    "type(train_data)"
   ]
  },
  {
   "cell_type": "code",
   "execution_count": 4,
   "metadata": {
    "collapsed": false
   },
   "outputs": [
    {
     "name": "stdout",
     "output_type": "stream",
     "text": [
      "torch.Size([60000, 28, 28])\n",
      "torch.Size([60000])\n"
     ]
    }
   ],
   "source": [
    "print train_data.train_data.size()\n",
    "print train_data.train_labels.size()"
   ]
  },
  {
   "cell_type": "code",
   "execution_count": 5,
   "metadata": {
    "collapsed": false
   },
   "outputs": [
    {
     "data": {
      "text/plain": [
       "<matplotlib.image.AxesImage at 0x10e4260d0>"
      ]
     },
     "execution_count": 5,
     "metadata": {},
     "output_type": "execute_result"
    },
    {
     "data": {
      "image/png": "[encoded data removed]",
      "text/plain": [
       "<matplotlib.figure.Figure at 0x10e08ec90>"
      ]
     },
     "metadata": {},
     "output_type": "display_data"
    }
   ],
   "source": [
    "plt.imshow(train_data.train_data[0].numpy(), cmap='gray')"
   ]
  },
  {
   "cell_type": "code",
   "execution_count": 7,
   "metadata": {
    "collapsed": false
   },
   "outputs": [],
   "source": [
    "test_data = torchvision.datasets.MNIST(\n",
    "    root='../mnist', \n",
    "    train=False, \n",
    "    transform=torchvision.transforms.ToTensor()\n",
    ")"
   ]
  },
  {
   "cell_type": "code",
   "execution_count": 8,
   "metadata": {
    "collapsed": false
   },
   "outputs": [
    {
     "name": "stdout",
     "output_type": "stream",
     "text": [
      "<class 'torch.autograd.variable.Variable'>\n",
      "torch.Size([2000, 1, 28, 28])\n"
     ]
    }
   ],
   "source": [
    "test_x = Variable(\n",
    "    torch.unsqueeze(test_data.test_data, dim=1),\n",
    "                  volatile=True\n",
    ")[:2000].type(torch.FloatTensor) /255.\n",
    "print type(test_x)\n",
    "print test_x.size()\n",
    "test_y = test_data.test_labels[:2000].type(torch.LongTensor)"
   ]
  },
  {
   "cell_type": "code",
   "execution_count": 9,
   "metadata": {
    "collapsed": false
   },
   "outputs": [
    {
     "name": "stdout",
     "output_type": "stream",
     "text": [
      "CNN (\n",
      "  (conv1): Sequential (\n",
      "    (0): Conv2d(1, 16, kernel_size=(3, 3), stride=(1, 1), padding=(1, 1))\n",
      "    (1): ReLU ()\n",
      "    (2): MaxPool2d (size=(2, 2), stride=(2, 2), dilation=(1, 1))\n",
      "  )\n",
      "  (conv2): Sequential (\n",
      "    (0): Conv2d(16, 32, kernel_size=(3, 3), stride=(1, 1), padding=(1, 1))\n",
      "    (1): ReLU ()\n",
      "    (2): MaxPool2d (size=(2, 2), stride=(2, 2), dilation=(1, 1))\n",
      "  )\n",
      "  (out): Linear (1568 -> 10)\n",
      ")\n"
     ]
    }
   ],
   "source": [
    "from CNN_Define import CNN\n",
    "cnn = CNN()\n",
    "print cnn"
   ]
  },
  {
   "cell_type": "code",
   "execution_count": 10,
   "metadata": {
    "collapsed": true
   },
   "outputs": [],
   "source": [
    "EPOCH = 1\n",
    "BATCH_SIZE = 50\n",
    "LR = 0.001"
   ]
  },
  {
   "cell_type": "code",
   "execution_count": 11,
   "metadata": {
    "collapsed": true
   },
   "outputs": [],
   "source": [
    "train_loader = Data.DataLoader(dataset=train_data, batch_size=BATCH_SIZE, shuffle=True)"
   ]
  },
  {
   "cell_type": "code",
   "execution_count": 12,
   "metadata": {
    "collapsed": true
   },
   "outputs": [],
   "source": [
    "optimizer = torch.optim.Adam(cnn.parameters(), lr=LR)\n",
    "loss_func = nn.CrossEntropyLoss()"
   ]
  },
  {
   "cell_type": "code",
   "execution_count": 15,
   "metadata": {
    "collapsed": false
   },
   "outputs": [
    {
     "name": "stdout",
     "output_type": "stream",
     "text": [
      "('step:', 0, '| train loss: 1.9682', '| test_acc: 0.53')\n",
      "('step:', 50, '| train loss: 0.7795', '| test_acc: 0.78')\n",
      "('step:', 100, '| train loss: 0.3012', '| test_acc: 0.86')\n",
      "('step:', 150, '| train loss: 0.3146', '| test_acc: 0.88')\n",
      "('step:', 200, '| train loss: 0.2253', '| test_acc: 0.91')\n",
      "('step:', 250, '| train loss: 0.0837', '| test_acc: 0.92')\n",
      "('step:', 300, '| train loss: 0.0836', '| test_acc: 0.92')\n",
      "('step:', 350, '| train loss: 0.1349', '| test_acc: 0.93')\n",
      "('step:', 400, '| train loss: 0.1847', '| test_acc: 0.94')\n",
      "('step:', 450, '| train loss: 0.2418', '| test_acc: 0.95')\n",
      "('step:', 500, '| train loss: 0.1934', '| test_acc: 0.94')\n",
      "('step:', 550, '| train loss: 0.1080', '| test_acc: 0.95')\n",
      "('step:', 600, '| train loss: 0.0984', '| test_acc: 0.95')\n",
      "('step:', 650, '| train loss: 0.0496', '| test_acc: 0.96')\n",
      "('step:', 700, '| train loss: 0.1550', '| test_acc: 0.96')\n",
      "('step:', 750, '| train loss: 0.2932', '| test_acc: 0.96')\n",
      "('step:', 800, '| train loss: 0.0267', '| test_acc: 0.97')\n",
      "('step:', 850, '| train loss: 0.0582', '| test_acc: 0.96')\n",
      "('step:', 900, '| train loss: 0.1274', '| test_acc: 0.96')\n",
      "('step:', 950, '| train loss: 0.1093', '| test_acc: 0.97')\n",
      "('step:', 1000, '| train loss: 0.0931', '| test_acc: 0.96')\n",
      "('step:', 1050, '| train loss: 0.1095', '| test_acc: 0.97')\n",
      "('step:', 1100, '| train loss: 0.0503', '| test_acc: 0.96')\n",
      "('step:', 1150, '| train loss: 0.1998', '| test_acc: 0.97')\n"
     ]
    }
   ],
   "source": [
    "for epoch in xrange(EPOCH):\n",
    "    for step, (x,y) in enumerate(train_loader):\n",
    "        b_x = Variable(x)\n",
    "        b_y = Variable(y)\n",
    "        \n",
    "        output = cnn(b_x)\n",
    "        loss = loss_func(output, b_y)\n",
    "        optimizer.zero_grad()\n",
    "        loss.backward()\n",
    "        optimizer.step()\n",
    "        \n",
    "        if step%50 == 0:\n",
    "            test_output = cnn(test_x)\n",
    "            pred_y = torch.max(test_output, dim=1)[1].data.squeeze()\n",
    "            accuracy = sum(pred_y == test_y) / float(test_y.size(0))\n",
    "            print(\n",
    "                'step:',step,\n",
    "                '| train loss: %.4f' % loss.data[0],\n",
    "                '| test_acc: %.2f' % accuracy)"
   ]
  },
  {
   "cell_type": "code",
   "execution_count": null,
   "metadata": {
    "collapsed": true
   },
   "outputs": [],
   "source": []
  }
 ],
 "metadata": {
  "kernelspec": {
   "display_name": "Python 2",
   "language": "python",
   "name": "python2"
  },
  "language_info": {
   "codemirror_mode": {
    "name": "ipython",
    "version": 2
   },
   "file_extension": ".py",
   "mimetype": "text/x-python",
   "name": "python",
   "nbconvert_exporter": "python",
   "pygments_lexer": "ipython2",
   "version": "2.7.13"
  }
 },
 "nbformat": 4,
 "nbformat_minor": 0
}
